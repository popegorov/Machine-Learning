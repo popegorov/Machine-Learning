{
  "cells": [
    {
      "cell_type": "markdown",
      "metadata": {
        "pycharm": {
          "name": "#%% md\n"
        },
        "id": "WiCWNZ692-Cg"
      },
      "source": [
        "# Машинное обучение, ФКН ВШЭ\n",
        "\n",
        "# Практическое задание 6. Бустинговое\n",
        "\n",
        "## Общая информация\n",
        "\n",
        "Дата выдачи: 12.12.2023\n",
        "\n",
        "Мягкий дедлайн: 24.12.2023 23:59 MSK\n",
        "\n",
        "Жёсткий дедлайн: 24.12.2023 23:59 MSK\n",
        "\n",
        "## Оценивание и штрафы\n",
        "\n",
        "Каждая из задач имеет определенную «стоимость» (указана в скобках около задачи). Максимально допустимая оценка за работу — 10 баллов.\n",
        "\n",
        "Сдавать задание после указанного срока сдачи нельзя. При выставлении неполного балла за задание в связи с наличием ошибок на усмотрение проверяющего предусмотрена возможность исправить работу на указанных в ответном письме условиях.\n",
        "\n",
        "Задание выполняется самостоятельно. «Похожие» решения считаются плагиатом и все задействованные студенты (в том числе те, у кого списали) не могут получить за него больше 0 баллов (подробнее о плагиате см. на странице курса). Если вы нашли решение какого-то из заданий (или его часть) в открытом источнике, необходимо указать ссылку на этот источник в отдельном блоке в конце вашей работы (скорее всего вы будете не единственным, кто это нашел, поэтому чтобы исключить подозрение в плагиате, необходима ссылка на источник).\n",
        "\n",
        "Неэффективная реализация кода может негативно отразиться на оценке.\n",
        "\n",
        "## Формат сдачи\n",
        "Задания сдаются через систему anytask. Посылка должна содержать:\n",
        "* Ноутбук homework-practice-06-Username.ipynb\n",
        "\n",
        "Username — ваша фамилия на латинице"
      ]
    },
    {
      "cell_type": "markdown",
      "metadata": {
        "pycharm": {
          "name": "#%% md\n"
        },
        "id": "hY53Ek1W2-Ci"
      },
      "source": [
        "## О задании\n",
        "\n",
        "В этом задании вам предстоит вручную запрограммировать один из самых мощных алгоритмов машинного обучения — бустинг."
      ]
    },
    {
      "cell_type": "code",
      "execution_count": 1,
      "metadata": {
        "pycharm": {
          "name": "#%%\n"
        },
        "id": "olmk_p5r2-Cj"
      },
      "outputs": [],
      "source": [
        "from warnings import filterwarnings\n",
        "\n",
        "import matplotlib.pyplot as plt\n",
        "import numpy as np\n",
        "import seaborn as sns\n",
        "from scipy.sparse import load_npz\n",
        "from sklearn.model_selection import train_test_split\n",
        "\n",
        "\n",
        "sns.set(style='darkgrid')\n",
        "filterwarnings('ignore')"
      ]
    },
    {
      "cell_type": "code",
      "execution_count": 3,
      "metadata": {
        "pycharm": {
          "name": "#%%\n"
        },
        "id": "bAbXmYBy2-Cj"
      },
      "outputs": [],
      "source": [
        "x = load_npz('x.npz')\n",
        "y = np.load('y.npy')"
      ]
    },
    {
      "cell_type": "markdown",
      "metadata": {
        "pycharm": {
          "name": "#%% md\n"
        },
        "id": "p7jft3PA2-Ck"
      },
      "source": [
        "Разделим на обучающую, валидационную и тестовую выборки (`random_state` оставьте равным 1337 для воспроизводимости)."
      ]
    },
    {
      "cell_type": "code",
      "execution_count": 4,
      "metadata": {
        "pycharm": {
          "name": "#%%\n"
        },
        "id": "JhUxO2Ac2-Ck",
        "colab": {
          "base_uri": "https://localhost:8080/"
        },
        "outputId": "f4fa5606-62d7-43c9-d64d-1b0bdd65054e"
      },
      "outputs": [
        {
          "output_type": "execute_result",
          "data": {
            "text/plain": [
              "((18825, 169), (2354, 169), (2353, 169))"
            ]
          },
          "metadata": {},
          "execution_count": 4
        }
      ],
      "source": [
        "x_train, x_test, y_train, y_test = train_test_split(x, y, test_size=0.2, random_state=1337)\n",
        "\n",
        "x_test, x_valid, y_test, y_valid = train_test_split(x_test, y_test, test_size=0.5, random_state=1337)\n",
        "\n",
        "x_train.shape, x_valid.shape, x_test.shape"
      ]
    },
    {
      "cell_type": "markdown",
      "metadata": {
        "pycharm": {
          "name": "#%% md\n"
        },
        "id": "GJmQEIiS2-Ck"
      },
      "source": [
        "## Задание 1. Реализация градиентного бустингового (4 балла)\n",
        "\n",
        "Вам нужно дописать код в файлике `boosting.py`. Для вас уже подготовлен шаблон класса `Boosting`, вы можете менять его по своему усмотрению.\n",
        "\n",
        "### Инструкции для функций:\n",
        "\n",
        "#### `__init__`\n",
        "\n",
        "В `__init__` приходит кучка параметров, распишем что есть что:\n",
        "\n",
        " - `base_model_class` - класс базовой модели нашего бустинга\n",
        " - `base_model_params` - словарь с гиперпараметрами для базовой модели\n",
        " - `n_estimators` - какое количество базовых моделей нужно обучить\n",
        " - `learning_rate` - темп обучения, должен быть из полуинтервала $(0, 1]$\n",
        " - `subsample` - доля объектов, на которой будет обучаться базовая модель (какую часть составляет бутстрапная выборка от исходной обучающей)\n",
        " - `early_stopping_rounds` - число итераций, после которых при отсутствии улучшения качества на валидационной выборке обучение останавливается\n",
        " - `plot` - строить ли после обучения всех базовых моделей график с качеством\n",
        "\n",
        "#### `fit`\n",
        "\n",
        "В `fit` приходит две выборки, обучающая и валидационная. На обучающей мы обучаем новые базовые модели, на валидационной считаем качество для ранней остановки (если это предусматривают параметры).\n",
        "\n",
        "Сначала нам нужно сделать какую-то нулевую модель, сделать предсказания для обучающей и валидационной выборок (в шаблоне это нулевая модель, соответственно предсказания это просто `np.zeros`). После этого нужно обучить `n_estimators` базовых моделей (как и на что обучаются базовые модели смотрите в лекциях и семинарах). После каждой обученной базовой модели мы должны обновить текущие предсказания, посчитать ошибку на обучающей и валидационной выборках (используем `loss_fn` для этого), проверить на раннюю остановку.\n",
        "\n",
        "После всего цикла обучения надо нарисовать график (если `plot`).\n",
        "\n",
        "\n",
        "#### `fit_new_base_model`\n",
        "\n",
        "В `fit_new_base_model` приходит обучающая выборка (целиком) и текущие предсказания для неё. Мы должны сгенерировать бутстрап выборку для обучения базовой модели и обучить базовую модель. После обучения модели запускаем поиск оптимальной гаммы, добавляем новую модель и гамму (не забываем про темп обучения) в соответствующие списки.\n",
        "\n",
        "#### `predict_proba`\n",
        "\n",
        "В `predict_proba` приходит выборка, нужно предсказать вероятности для неё. Суммируем предсказания базовых моделей на этой выборке (не забываем про гаммы) и накидываем сигмоиду."
      ]
    },
    {
      "cell_type": "code",
      "execution_count": 5,
      "metadata": {
        "pycharm": {
          "name": "#%%\n"
        },
        "id": "SoMqP7RM2-Cl"
      },
      "outputs": [],
      "source": [
        "%load_ext autoreload"
      ]
    },
    {
      "cell_type": "code",
      "execution_count": 6,
      "metadata": {
        "pycharm": {
          "name": "#%%\n"
        },
        "id": "suOLiEy02-Cm"
      },
      "outputs": [],
      "source": [
        "%autoreload 2\n",
        "\n",
        "from boosting import Boosting"
      ]
    },
    {
      "cell_type": "markdown",
      "metadata": {
        "pycharm": {
          "name": "#%% md\n"
        },
        "id": "WAOLQu2v2-Cm"
      },
      "source": [
        "### Проверка кода\n",
        "\n",
        "У автора задания всё учится около одной секунды."
      ]
    },
    {
      "cell_type": "code",
      "execution_count": 7,
      "metadata": {
        "pycharm": {
          "name": "#%%\n"
        },
        "id": "lzbqnGw-2-Cn",
        "outputId": "4694370a-a9ef-4581-ad60-7d2d61548f05",
        "colab": {
          "base_uri": "https://localhost:8080/"
        }
      },
      "outputs": [
        {
          "output_type": "stream",
          "name": "stdout",
          "text": [
            "CPU times: user 1.93 s, sys: 11.3 ms, total: 1.94 s\n",
            "Wall time: 2.29 s\n",
            "Train ROC-AUC 0.9900\n",
            "Valid ROC-AUC 0.9169\n",
            "Test ROC-AUC 0.9143\n"
          ]
        }
      ],
      "source": [
        "boosting = Boosting()\n",
        "\n",
        "%time boosting.fit(x_train, y_train, x_valid, y_valid)\n",
        "\n",
        "assert len(boosting.models) == boosting.n_estimators\n",
        "assert len(boosting.gammas) == boosting.n_estimators\n",
        "\n",
        "assert boosting.predict_proba(x_test).shape == (x_test.shape[0], 2)\n",
        "\n",
        "print(f'Train ROC-AUC {boosting.score(x_train, y_train):.4f}')\n",
        "print(f'Valid ROC-AUC {boosting.score(x_valid, y_valid):.4f}')\n",
        "print(f'Test ROC-AUC {boosting.score(x_test, y_test):.4f}')"
      ]
    },
    {
      "cell_type": "markdown",
      "metadata": {
        "pycharm": {
          "name": "#%% md\n"
        },
        "id": "UjYFUp142-Cn"
      },
      "source": [
        "## Задание 2. Обучение градиентного бустинга (1 балл)\n",
        "\n",
        "Оцените качество на тестовой выборке вашей имплементации бустинга для различной максимальной глубины решающего дерева в качестве базовой модели. Здесь и далее мы будем использовать метрику ROC-AUC.\n",
        "\n",
        "Перебирайте максимальную глубину от 1 до 30 с шагом 2 (остальные параметры бустинга стоит оставить равными по умолчанию). Постройте график зависимости качества на обучающей и тестовой выборке в зависимости от глубины."
      ]
    },
    {
      "cell_type": "code",
      "execution_count": 8,
      "metadata": {
        "pycharm": {
          "name": "#%%\n"
        },
        "id": "Uf-EfUD92-Co",
        "colab": {
          "base_uri": "https://localhost:8080/",
          "height": 531
        },
        "outputId": "ba6b13f6-6859-429c-c298-c9089edf5155"
      },
      "outputs": [
        {
          "output_type": "execute_result",
          "data": {
            "text/plain": [
              "[Text(0.5, 1.0, 'Dependence of AUC-ROC on max_depth'),\n",
              " Text(0.5, 0, 'max_depth'),\n",
              " Text(0, 0.5, 'AUC-ROC')]"
            ]
          },
          "metadata": {},
          "execution_count": 8
        },
        {
          "output_type": "display_data",
          "data": {
            "text/plain": [
              "<Figure size 640x480 with 1 Axes>"
            ],
            "image/png": "[encoded data removed]"
          },
          "metadata": {}
        }
      ],
      "source": [
        "results_train = []\n",
        "results_test = []\n",
        "depths = range(1, 30, 2)\n",
        "\n",
        "for depth in depths:\n",
        "  cur_model_params = {'max_depth' : depth}\n",
        "  boosting = Boosting(base_model_params=cur_model_params)\n",
        "  boosting.fit(x_train, y_train, x_valid, y_valid)\n",
        "  results_train.append(boosting.score(x_train, y_train))\n",
        "  results_test.append(boosting.score(x_test, y_test))\n",
        "\n",
        "\n",
        "sns.lineplot(x=depths, y=results_train, label='Train')\n",
        "sns.lineplot(x=depths, y=results_test, label='Test').set(title='Dependence of AUC-ROC on max_depth', xlabel='max_depth', ylabel='AUC-ROC')"
      ]
    },
    {
      "cell_type": "markdown",
      "metadata": {
        "pycharm": {
          "name": "#%% md\n"
        },
        "id": "ja3oSNNI2-Co"
      },
      "source": [
        "**Какая из моделей имеет лучшее качество? Как вы можете это объяснить?**\n",
        "\n",
        "Наилучшей моделью оказалась та, у которой max depth около 6-8, это можно объяснить тем, что с увеличением базовых моделей композиция переобучается и качество растёт только на трейне, поэтому надо находить оптимальное количество по валидационной выборке и останавливаться в этот момент"
      ]
    },
    {
      "cell_type": "markdown",
      "metadata": {
        "pycharm": {
          "name": "#%% md\n"
        },
        "id": "3a6JcXG52-Co"
      },
      "source": [
        "## Задание 3. Подбираем гиперпараметры и ищем лучшую модель (3 балла)\n",
        "\n",
        "Подберите по валидационной выборке основные гиперпараметры для вашей модели бустинга. Следует подобрать все основные параметры для самого градиентного бустинга и для самих базовых моделей. Существуют библиотеки для подбора гиперпараметров, попробуйте использовать какую-нибудь из следующих двух - [Hyperopt](https://github.com/hyperopt/hyperopt), [Optuna](https://optuna.org/)."
      ]
    },
    {
      "cell_type": "code",
      "source": [
        "!pip install optuna"
      ],
      "metadata": {
        "colab": {
          "base_uri": "https://localhost:8080/"
        },
        "id": "BmCzQeDoXq18",
        "outputId": "f477159b-bc20-429e-9973-660a3099d0c8"
      },
      "execution_count": 10,
      "outputs": [
        {
          "output_type": "stream",
          "name": "stdout",
          "text": [
            "Collecting optuna\n",
            "  Downloading optuna-3.5.0-py3-none-any.whl (413 kB)\n",
            "\u001b[2K     \u001b[90m━━━━━━━━━━━━━━━━━━━━━━━━━━━━━━━━━━━━━━━━\u001b[0m \u001b[32m413.4/413.4 kB\u001b[0m \u001b[31m6.2 MB/s\u001b[0m eta \u001b[36m0:00:00\u001b[0m\n",
            "\u001b[?25hCollecting alembic>=1.5.0 (from optuna)\n",
            "  Downloading alembic-1.13.0-py3-none-any.whl (230 kB)\n",
            "\u001b[2K     \u001b[90m━━━━━━━━━━━━━━━━━━━━━━━━━━━━━━━━━━━━━━━━\u001b[0m \u001b[32m230.6/230.6 kB\u001b[0m \u001b[31m10.5 MB/s\u001b[0m eta \u001b[36m0:00:00\u001b[0m\n",
            "\u001b[?25hCollecting colorlog (from optuna)\n",
            "  Downloading colorlog-6.8.0-py3-none-any.whl (11 kB)\n",
            "Requirement already satisfied: numpy in /usr/local/lib/python3.10/dist-packages (from optuna) (1.23.5)\n",
            "Requirement already satisfied: packaging>=20.0 in /usr/local/lib/python3.10/dist-packages (from optuna) (23.2)\n",
            "Requirement already satisfied: sqlalchemy>=1.3.0 in /usr/local/lib/python3.10/dist-packages (from optuna) (2.0.23)\n",
            "Requirement already satisfied: tqdm in /usr/local/lib/python3.10/dist-packages (from optuna) (4.66.1)\n",
            "Requirement already satisfied: PyYAML in /usr/local/lib/python3.10/dist-packages (from optuna) (6.0.1)\n",
            "Collecting Mako (from alembic>=1.5.0->optuna)\n",
            "  Downloading Mako-1.3.0-py3-none-any.whl (78 kB)\n",
            "\u001b[2K     \u001b[90m━━━━━━━━━━━━━━━━━━━━━━━━━━━━━━━━━━━━━━━━\u001b[0m \u001b[32m78.6/78.6 kB\u001b[0m \u001b[31m11.0 MB/s\u001b[0m eta \u001b[36m0:00:00\u001b[0m\n",
            "\u001b[?25hRequirement already satisfied: typing-extensions>=4 in /usr/local/lib/python3.10/dist-packages (from alembic>=1.5.0->optuna) (4.5.0)\n",
            "Requirement already satisfied: greenlet!=0.4.17 in /usr/local/lib/python3.10/dist-packages (from sqlalchemy>=1.3.0->optuna) (3.0.2)\n",
            "Requirement already satisfied: MarkupSafe>=0.9.2 in /usr/local/lib/python3.10/dist-packages (from Mako->alembic>=1.5.0->optuna) (2.1.3)\n",
            "Installing collected packages: Mako, colorlog, alembic, optuna\n",
            "Successfully installed Mako-1.3.0 alembic-1.13.0 colorlog-6.8.0 optuna-3.5.0\n"
          ]
        }
      ]
    },
    {
      "cell_type": "code",
      "execution_count": 31,
      "metadata": {
        "pycharm": {
          "is_executing": true,
          "name": "#%%\n"
        },
        "id": "Ch_BEaIS2-Co",
        "colab": {
          "base_uri": "https://localhost:8080/"
        },
        "outputId": "a47ff9e8-92b4-48f9-d1df-e5a38d25dd12"
      },
      "outputs": [
        {
          "output_type": "stream",
          "name": "stderr",
          "text": [
            "[I 2023-12-18 15:50:56,606] A new study created in memory with name: no-name-ca8a2293-d5a4-4130-9f3a-f26c3d0550b8\n",
            "[I 2023-12-18 15:50:58,566] Trial 0 finished with value: 0.9297412344662058 and parameters: {'max_depth': 14, 'min_samples_split': 5, 'min_samples_leaf': 48, 'n_estimators': 16, 'learning_rate': 0.022813670787591913}. Best is trial 0 with value: 0.9297412344662058.\n",
            "[I 2023-12-18 15:51:08,418] Trial 1 finished with value: 0.9358629601870321 and parameters: {'max_depth': 5, 'min_samples_split': 19, 'min_samples_leaf': 8, 'n_estimators': 160, 'learning_rate': 0.04618633271684723}. Best is trial 1 with value: 0.9358629601870321.\n",
            "[I 2023-12-18 15:51:22,854] Trial 2 finished with value: 0.9360206029055749 and parameters: {'max_depth': 6, 'min_samples_split': 48, 'min_samples_leaf': 5, 'n_estimators': 195, 'learning_rate': 0.019904688281023313}. Best is trial 2 with value: 0.9360206029055749.\n",
            "[I 2023-12-18 15:51:30,521] Trial 3 finished with value: 0.9308036266605365 and parameters: {'max_depth': 5, 'min_samples_split': 48, 'min_samples_leaf': 9, 'n_estimators': 107, 'learning_rate': 0.011630088976759847}. Best is trial 2 with value: 0.9360206029055749.\n",
            "[I 2023-12-18 15:51:39,359] Trial 4 finished with value: 0.9396144577928582 and parameters: {'max_depth': 16, 'min_samples_split': 25, 'min_samples_leaf': 9, 'n_estimators': 78, 'learning_rate': 0.04309318251885998}. Best is trial 4 with value: 0.9396144577928582.\n",
            "[I 2023-12-18 15:52:02,648] Trial 5 finished with value: 0.941154567288697 and parameters: {'max_depth': 9, 'min_samples_split': 31, 'min_samples_leaf': 19, 'n_estimators': 295, 'learning_rate': 0.04659323879157641}. Best is trial 5 with value: 0.941154567288697.\n",
            "[I 2023-12-18 15:52:07,036] Trial 6 finished with value: 0.9205831902576002 and parameters: {'max_depth': 3, 'min_samples_split': 39, 'min_samples_leaf': 34, 'n_estimators': 51, 'learning_rate': 0.048752516903824115}. Best is trial 5 with value: 0.941154567288697.\n",
            "[I 2023-12-18 15:52:15,032] Trial 7 finished with value: 0.9071687926483417 and parameters: {'max_depth': 2, 'min_samples_split': 25, 'min_samples_leaf': 38, 'n_estimators': 143, 'learning_rate': 0.024629163340467622}. Best is trial 5 with value: 0.941154567288697.\n",
            "[I 2023-12-18 15:52:20,961] Trial 8 finished with value: 0.9378464647722402 and parameters: {'max_depth': 13, 'min_samples_split': 26, 'min_samples_leaf': 23, 'n_estimators': 55, 'learning_rate': 0.08586648642972404}. Best is trial 5 with value: 0.941154567288697.\n",
            "[I 2023-12-18 15:52:30,797] Trial 9 finished with value: 0.934959008902224 and parameters: {'max_depth': 13, 'min_samples_split': 12, 'min_samples_leaf': 29, 'n_estimators': 114, 'learning_rate': 0.010542902401258698}. Best is trial 5 with value: 0.941154567288697.\n",
            "[I 2023-12-18 15:53:03,567] Trial 10 finished with value: 0.9407522790347957 and parameters: {'max_depth': 19, 'min_samples_split': 36, 'min_samples_leaf': 20, 'n_estimators': 299, 'learning_rate': 0.07764588728397832}. Best is trial 5 with value: 0.941154567288697.\n",
            "[I 2023-12-18 15:53:33,860] Trial 11 finished with value: 0.9403228522875755 and parameters: {'max_depth': 19, 'min_samples_split': 36, 'min_samples_leaf': 20, 'n_estimators': 293, 'learning_rate': 0.07876739475106953}. Best is trial 5 with value: 0.941154567288697.\n",
            "[I 2023-12-18 15:53:58,706] Trial 12 finished with value: 0.9415608464974979 and parameters: {'max_depth': 9, 'min_samples_split': 34, 'min_samples_leaf': 18, 'n_estimators': 293, 'learning_rate': 0.06682507145369612}. Best is trial 12 with value: 0.9415608464974979.\n",
            "[I 2023-12-18 15:54:19,134] Trial 13 finished with value: 0.941261923975502 and parameters: {'max_depth': 9, 'min_samples_split': 34, 'min_samples_leaf': 15, 'n_estimators': 248, 'learning_rate': 0.06246610617754991}. Best is trial 12 with value: 0.9415608464974979.\n",
            "[I 2023-12-18 15:54:36,833] Trial 14 finished with value: 0.9407027911940379 and parameters: {'max_depth': 9, 'min_samples_split': 44, 'min_samples_leaf': 14, 'n_estimators': 218, 'learning_rate': 0.06633271337307828}. Best is trial 12 with value: 0.9415608464974979.\n",
            "[I 2023-12-18 15:54:58,857] Trial 15 finished with value: 0.9413764643811267 and parameters: {'max_depth': 10, 'min_samples_split': 31, 'min_samples_leaf': 28, 'n_estimators': 243, 'learning_rate': 0.09924614994644981}. Best is trial 12 with value: 0.9415608464974979.\n",
            "[I 2023-12-18 15:55:20,493] Trial 16 finished with value: 0.9410819319095202 and parameters: {'max_depth': 11, 'min_samples_split': 19, 'min_samples_leaf': 28, 'n_estimators': 251, 'learning_rate': 0.09933578861006252}. Best is trial 12 with value: 0.9415608464974979.\n",
            "[I 2023-12-18 15:55:39,122] Trial 17 finished with value: 0.9411928804557351 and parameters: {'max_depth': 7, 'min_samples_split': 30, 'min_samples_leaf': 40, 'n_estimators': 250, 'learning_rate': 0.09335022315158675}. Best is trial 12 with value: 0.9415608464974979.\n",
            "[I 2023-12-18 15:55:57,364] Trial 18 finished with value: 0.9410140856762235 and parameters: {'max_depth': 11, 'min_samples_split': 40, 'min_samples_leaf': 32, 'n_estimators': 210, 'learning_rate': 0.06075607072067115}. Best is trial 12 with value: 0.9415608464974979.\n",
            "[I 2023-12-18 15:56:22,508] Trial 19 finished with value: 0.940592640838803 and parameters: {'max_depth': 15, 'min_samples_split': 22, 'min_samples_leaf': 25, 'n_estimators': 262, 'learning_rate': 0.0338434792698364}. Best is trial 12 with value: 0.9415608464974979.\n",
            "[I 2023-12-18 15:56:36,234] Trial 20 finished with value: 0.9396990660367344 and parameters: {'max_depth': 8, 'min_samples_split': 13, 'min_samples_leaf': 45, 'n_estimators': 180, 'learning_rate': 0.0717977660840081}. Best is trial 12 with value: 0.9415608464974979.\n",
            "[I 2023-12-18 15:56:58,181] Trial 21 finished with value: 0.9412192207580738 and parameters: {'max_depth': 10, 'min_samples_split': 32, 'min_samples_leaf': 15, 'n_estimators': 264, 'learning_rate': 0.05478557813912709}. Best is trial 12 with value: 0.9415608464974979.\n",
            "[I 2023-12-18 15:57:19,971] Trial 22 finished with value: 0.9414131811662048 and parameters: {'max_depth': 12, 'min_samples_split': 34, 'min_samples_leaf': 15, 'n_estimators': 228, 'learning_rate': 0.061955149829248414}. Best is trial 12 with value: 0.9415608464974979.\n",
            "[I 2023-12-18 15:57:39,822] Trial 23 finished with value: 0.9413445367419281 and parameters: {'max_depth': 12, 'min_samples_split': 42, 'min_samples_leaf': 14, 'n_estimators': 227, 'learning_rate': 0.09007971249704998}. Best is trial 12 with value: 0.9415608464974979.\n",
            "[I 2023-12-18 15:58:07,539] Trial 24 finished with value: 0.940314870377776 and parameters: {'max_depth': 17, 'min_samples_split': 29, 'min_samples_leaf': 23, 'n_estimators': 276, 'learning_rate': 0.0820816377448792}. Best is trial 12 with value: 0.9415608464974979.\n",
            "[I 2023-12-18 15:58:25,855] Trial 25 finished with value: 0.9413070217658699 and parameters: {'max_depth': 7, 'min_samples_split': 37, 'min_samples_leaf': 18, 'n_estimators': 238, 'learning_rate': 0.06923913463849825}. Best is trial 12 with value: 0.9415608464974979.\n",
            "[I 2023-12-18 15:58:41,471] Trial 26 finished with value: 0.938822253245245 and parameters: {'max_depth': 12, 'min_samples_split': 44, 'min_samples_leaf': 32, 'n_estimators': 185, 'learning_rate': 0.03610075540475559}. Best is trial 12 with value: 0.9415608464974979.\n",
            "[I 2023-12-18 15:59:06,776] Trial 27 finished with value: 0.9378420747218503 and parameters: {'max_depth': 10, 'min_samples_split': 28, 'min_samples_leaf': 4, 'n_estimators': 279, 'learning_rate': 0.0007914662413397236}. Best is trial 12 with value: 0.9415608464974979.\n",
            "[I 2023-12-18 15:59:27,757] Trial 28 finished with value: 0.9411601546255566 and parameters: {'max_depth': 17, 'min_samples_split': 33, 'min_samples_leaf': 11, 'n_estimators': 207, 'learning_rate': 0.05514250825983817}. Best is trial 12 with value: 0.9415608464974979.\n",
            "[I 2023-12-18 15:59:42,917] Trial 29 finished with value: 0.9402741626377977 and parameters: {'max_depth': 14, 'min_samples_split': 22, 'min_samples_leaf': 25, 'n_estimators': 159, 'learning_rate': 0.07370482838266171}. Best is trial 12 with value: 0.9415608464974979.\n",
            "[I 2023-12-18 15:59:58,740] Trial 30 finished with value: 0.9388809202822722 and parameters: {'max_depth': 4, 'min_samples_split': 11, 'min_samples_leaf': 38, 'n_estimators': 231, 'learning_rate': 0.09951624873666855}. Best is trial 12 with value: 0.9415608464974979.\n",
            "[I 2023-12-18 16:00:18,557] Trial 31 finished with value: 0.9414594762430427 and parameters: {'max_depth': 12, 'min_samples_split': 42, 'min_samples_leaf': 13, 'n_estimators': 229, 'learning_rate': 0.0893656162421477}. Best is trial 12 with value: 0.9415608464974979.\n",
            "[I 2023-12-18 16:00:43,709] Trial 32 finished with value: 0.9409222937135276 and parameters: {'max_depth': 12, 'min_samples_split': 39, 'min_samples_leaf': 17, 'n_estimators': 277, 'learning_rate': 0.0908132020933489}. Best is trial 12 with value: 0.9415608464974979.\n",
            "[I 2023-12-18 16:01:02,080] Trial 33 finished with value: 0.9411705311082962 and parameters: {'max_depth': 14, 'min_samples_split': 46, 'min_samples_leaf': 10, 'n_estimators': 201, 'learning_rate': 0.08441941966554461}. Best is trial 12 with value: 0.9415608464974979.\n",
            "[I 2023-12-18 16:01:14,750] Trial 34 finished with value: 0.9415468781553487 and parameters: {'max_depth': 7, 'min_samples_split': 49, 'min_samples_leaf': 5, 'n_estimators': 175, 'learning_rate': 0.09224189399777223}. Best is trial 12 with value: 0.9415608464974979.\n",
            "[I 2023-12-18 16:01:24,732] Trial 35 finished with value: 0.9400582519777176 and parameters: {'max_depth': 6, 'min_samples_split': 50, 'min_samples_leaf': 6, 'n_estimators': 135, 'learning_rate': 0.0757352159361644}. Best is trial 12 with value: 0.9415608464974979.\n",
            "[I 2023-12-18 16:01:38,357] Trial 36 finished with value: 0.9403779274651928 and parameters: {'max_depth': 8, 'min_samples_split': 48, 'min_samples_leaf': 3, 'n_estimators': 177, 'learning_rate': 0.05547130245791668}. Best is trial 12 with value: 0.9415608464974979.\n",
            "[I 2023-12-18 16:01:50,693] Trial 37 finished with value: 0.9389128479214709 and parameters: {'max_depth': 6, 'min_samples_split': 42, 'min_samples_leaf': 7, 'n_estimators': 170, 'learning_rate': 0.06478385717454936}. Best is trial 12 with value: 0.9415608464974979.\n",
            "[I 2023-12-18 16:01:51,040] Trial 38 finished with value: 0.9251823666841471 and parameters: {'max_depth': 5, 'min_samples_split': 46, 'min_samples_leaf': 11, 'n_estimators': 5, 'learning_rate': 0.09324331447945265}. Best is trial 12 with value: 0.9415608464974979.\n",
            "[I 2023-12-18 16:01:59,065] Trial 39 finished with value: 0.8945086855151484 and parameters: {'max_depth': 1, 'min_samples_split': 50, 'min_samples_leaf': 12, 'n_estimators': 126, 'learning_rate': 0.04192269618642036}. Best is trial 12 with value: 0.9415608464974979.\n",
            "[I 2023-12-18 16:02:14,004] Trial 40 finished with value: 0.9409937318062345 and parameters: {'max_depth': 8, 'min_samples_split': 41, 'min_samples_leaf': 7, 'n_estimators': 192, 'learning_rate': 0.08713523208404018}. Best is trial 12 with value: 0.9415608464974979.\n",
            "[I 2023-12-18 16:02:33,887] Trial 41 finished with value: 0.9414818255904818 and parameters: {'max_depth': 10, 'min_samples_split': 34, 'min_samples_leaf': 22, 'n_estimators': 237, 'learning_rate': 0.09615789512009447}. Best is trial 12 with value: 0.9415608464974979.\n",
            "[I 2023-12-18 16:02:53,717] Trial 42 finished with value: 0.9410284531138627 and parameters: {'max_depth': 11, 'min_samples_split': 37, 'min_samples_leaf': 22, 'n_estimators': 219, 'learning_rate': 0.08018179869634015}. Best is trial 12 with value: 0.9415608464974979.\n",
            "[I 2023-12-18 16:03:08,010] Trial 43 finished with value: 0.9407834084830141 and parameters: {'max_depth': 13, 'min_samples_split': 34, 'min_samples_leaf': 16, 'n_estimators': 152, 'learning_rate': 0.09434204950266316}. Best is trial 12 with value: 0.9415608464974979.\n",
            "[I 2023-12-18 16:03:29,233] Trial 44 finished with value: 0.94151774418458 and parameters: {'max_depth': 9, 'min_samples_split': 27, 'min_samples_leaf': 21, 'n_estimators': 265, 'learning_rate': 0.08673747912082758}. Best is trial 12 with value: 0.9415608464974979.\n",
            "[I 2023-12-18 16:03:52,063] Trial 45 finished with value: 0.941413979357185 and parameters: {'max_depth': 9, 'min_samples_split': 27, 'min_samples_leaf': 22, 'n_estimators': 267, 'learning_rate': 0.08703558728290671}. Best is trial 12 with value: 0.9415608464974979.\n",
            "[I 2023-12-18 16:03:59,145] Trial 46 finished with value: 0.9391582916478093 and parameters: {'max_depth': 7, 'min_samples_split': 46, 'min_samples_leaf': 20, 'n_estimators': 93, 'learning_rate': 0.0964271827473297}. Best is trial 12 with value: 0.9415608464974979.\n",
            "[I 2023-12-18 16:04:22,000] Trial 47 finished with value: 0.9423031641088635 and parameters: {'max_depth': 9, 'min_samples_split': 25, 'min_samples_leaf': 19, 'n_estimators': 282, 'learning_rate': 0.08290695099924901}. Best is trial 47 with value: 0.9423031641088635.\n",
            "[I 2023-12-18 16:04:46,432] Trial 48 finished with value: 0.9421115982736725 and parameters: {'max_depth': 9, 'min_samples_split': 23, 'min_samples_leaf': 26, 'n_estimators': 292, 'learning_rate': 0.08293533343356499}. Best is trial 47 with value: 0.9423031641088635.\n",
            "[I 2023-12-18 16:05:05,755] Trial 49 finished with value: 0.9390397602872849 and parameters: {'max_depth': 4, 'min_samples_split': 22, 'min_samples_leaf': 25, 'n_estimators': 289, 'learning_rate': 0.08338573961628472}. Best is trial 47 with value: 0.9423031641088635.\n"
          ]
        },
        {
          "output_type": "execute_result",
          "data": {
            "text/plain": [
              "{'max_depth': 9,\n",
              " 'min_samples_split': 25,\n",
              " 'min_samples_leaf': 19,\n",
              " 'n_estimators': 282,\n",
              " 'learning_rate': 0.08290695099924901}"
            ]
          },
          "metadata": {},
          "execution_count": 31
        }
      ],
      "source": [
        "import optuna\n",
        "def objective(trial):\n",
        "    params = {\n",
        "        'max_depth' :  trial.suggest_int('max_depth', 1, 20),\n",
        "        'min_samples_split' : trial.suggest_int(\"min_samples_split\", 2, 50),\n",
        "        'min_samples_leaf' : trial.suggest_int(\"min_samples_leaf\", 3, 50),\n",
        "        'n_estimators' : trial.suggest_int('n_estimators', 3, 300),\n",
        "        'learning_rate' : trial.suggest_float(\"learning_rate\", 1e-4, 1e-1),\n",
        "    }\n",
        "\n",
        "\n",
        "    boosting = Boosting(base_model_params={\n",
        "        'max_depth': params['max_depth'],\n",
        "        'min_samples_leaf': params['min_samples_leaf'],\n",
        "        'min_samples_split': params['min_samples_split']},\n",
        "        n_estimators=params['n_estimators'],\n",
        "        learning_rate=params['learning_rate'])\n",
        "\n",
        "    boosting.fit(x_train, y_train, x_valid, y_valid)\n",
        "    score = boosting.score(x_valid, y_valid)\n",
        "    return score\n",
        "\n",
        "study = optuna.create_study(direction='maximize')\n",
        "study.optimize(objective, n_trials=50)\n",
        "study.best_params"
      ]
    },
    {
      "cell_type": "markdown",
      "metadata": {
        "pycharm": {
          "name": "#%% md\n"
        },
        "id": "3VoON7re2-Cp"
      },
      "source": [
        "## Задание 4. Интерпретация бустинга (2 балл)\n",
        "\n",
        "Постройте калибровочную кривую для вашей лучшей модели бустинга. Насколько хорошо бустинг оценивает вероятности? Постройте также калибровочную кривую для логистической регрессии, сравните их между собой. Проанализируйте полученные результаты."
      ]
    },
    {
      "cell_type": "code",
      "source": [
        "def plot_calibration_curve(y_test, preds, label):\n",
        "    bin_middle_points = []\n",
        "    bin_real_ratios = []\n",
        "    n_bins = 10\n",
        "    for i in range(n_bins):\n",
        "        l = 1.0 / n_bins * i\n",
        "        r = 1.0 / n_bins * (i + 1)\n",
        "        bin_middle_points.append((l + r) / 2)\n",
        "        bin_real_ratios.append(np.mean(y_test[(preds >= l) & (preds < r)] == 1))\n",
        "    sns.lineplot(x=bin_middle_points, y=bin_real_ratios, label=label)\n",
        "    plt.ylim([-0.05, 1.05])"
      ],
      "metadata": {
        "id": "--y-aGLL0qKA"
      },
      "execution_count": 9,
      "outputs": []
    },
    {
      "cell_type": "code",
      "execution_count": 10,
      "metadata": {
        "pycharm": {
          "name": "#%%\n"
        },
        "id": "vmga6OEd2-Cp"
      },
      "outputs": [],
      "source": [
        "from sklearn.linear_model import LogisticRegression\n",
        "\n",
        "boosting = Boosting(base_model_params={\n",
        "        'max_depth': 9,\n",
        "        'min_samples_leaf': 19,\n",
        "        'min_samples_split': 25},\n",
        "        n_estimators=282,\n",
        "        learning_rate=0.08290695099924901)\n",
        "\n",
        "boosting.fit(x_train, y_train, x_valid, y_valid)"
      ]
    },
    {
      "cell_type": "code",
      "source": [
        "plt.figure(figsize=(6,6))\n",
        "plot_calibration_curve(y_test, boosting.predict_proba(x_test)[:,1], 'Boosting')\n",
        "\n",
        "log_model = LogisticRegression(penalty='l2', C=0.1)\n",
        "log_model.fit(x_train, y_train)\n",
        "plot_calibration_curve(y_test, log_model.predict_proba(x_test)[:,1], 'Logistic')\n",
        "sns.lineplot(x=[0, 1], y=[0, 1], label='y=x').set(title='Calibration curves')"
      ],
      "metadata": {
        "colab": {
          "base_uri": "https://localhost:8080/",
          "height": 566
        },
        "id": "y9z5aZTq0QE3",
        "outputId": "fafc328b-ccac-4894-c259-afa39e65e32f"
      },
      "execution_count": 11,
      "outputs": [
        {
          "output_type": "execute_result",
          "data": {
            "text/plain": [
              "[Text(0.5, 1.0, 'Calibration curves')]"
            ]
          },
          "metadata": {},
          "execution_count": 11
        },
        {
          "output_type": "display_data",
          "data": {
            "text/plain": [
              "<Figure size 600x600 with 1 Axes>"
            ],
            "image/png": "[encoded data removed]"
          },
          "metadata": {}
        }
      ]
    },
    {
      "cell_type": "markdown",
      "source": [
        "Видим что бустинг стремится оценивать вероятности, но всё таки на делает это очень хорошо, видно что у логистической регрессии всё сильно лучше с калибровочной прямой"
      ],
      "metadata": {
        "id": "1fGjde7QtbsY"
      }
    },
    {
      "cell_type": "markdown",
      "metadata": {
        "pycharm": {
          "name": "#%% md\n"
        },
        "id": "xnPc4Pqn2-Cp"
      },
      "source": [
        "Теперь попробуем оценить важность признаков для бустинга.\n",
        "\n",
        "Поскольку наша базовая модель - это дерево из `sklearn`, мы можем вычислить важность признака отдельно для каждого дерева и усреднить (воспользуйтесь `feature_importances_` у `DecisionTreeRegressor`), после этого нормировать значения, чтобы они суммировались в единицу (обратите внимание, что они должны быть неотрицательными - иначе вы что-то сделали не так).\n",
        "\n",
        "Допишите в вашей реализации бустинга функцию `feature_importances_` чтобы она возвращала описанные выше важности признаков.\n",
        "\n",
        "Нарисуйте столбчатую диаграмму важности признаков. На соседнем графике нарисуйте важность признаков для логистической регрессии, для этого используйте модули весов. Сравните графики. Проанализируйте полученные результаты."
      ]
    },
    {
      "cell_type": "code",
      "execution_count": 12,
      "metadata": {
        "pycharm": {
          "name": "#%%\n"
        },
        "id": "kSYyKtjC2-Cp",
        "colab": {
          "base_uri": "https://localhost:8080/",
          "height": 586
        },
        "outputId": "05792f41-54d8-4a5c-8924-8dc410407a15"
      },
      "outputs": [
        {
          "output_type": "execute_result",
          "data": {
            "text/plain": [
              "Text(0.5, 1.0, 'Logistic')"
            ]
          },
          "metadata": {},
          "execution_count": 12
        },
        {
          "output_type": "display_data",
          "data": {
            "text/plain": [
              "<Figure size 1400x600 with 2 Axes>"
            ],
            "image/png": "[encoded data removed]"
          },
          "metadata": {}
        }
      ],
      "source": [
        "feat_importances_boosting = boosting.feature_importances_\n",
        "feat_importances_logistic = np.abs(log_model.coef_) / np.sum(np.abs(log_model.coef_))\n",
        "\n",
        "plt.figure(figsize=(14, 6))\n",
        "plt.subplot(1, 2, 1)\n",
        "plt.hist(x=list(range(len(feat_importances_boosting))), weights=feat_importances_boosting, bins=len(feat_importances_boosting))\n",
        "plt.title('Boosting')\n",
        "plt.subplot(1, 2, 2)\n",
        "plt.hist(x=list(range(len(feat_importances_logistic[0]))), weights=feat_importances_logistic[0], bins=len(feat_importances_boosting))\n",
        "plt.title('Logistic')"
      ]
    },
    {
      "cell_type": "markdown",
      "source": [
        "Для бустинга самыми важнымы оказались последние параметры, вероятно, по ним можно хорошо разделить выборку на части, большинство признаков нулевые, так как вероятно по ним нет хороших разбиений, но видим что это не означает, что эти признаки бесполезны, так как логистическая регрессия всё же их использует"
      ],
      "metadata": {
        "id": "_t6TA44DtvPQ"
      }
    },
    {
      "cell_type": "markdown",
      "metadata": {
        "pycharm": {
          "name": "#%% md\n"
        },
        "id": "uYm03WED2-Cp"
      },
      "source": [
        "Кстати, чаще всего излишние признаки могут вредить качеству бустинга. Попробуйте отфильтровать на основании диаграммы хвост наименее важных признаков и снова обучить модель (с теми же гиперпараметрами). Стало ли лучше?"
      ]
    },
    {
      "cell_type": "code",
      "execution_count": 13,
      "metadata": {
        "pycharm": {
          "name": "#%%\n"
        },
        "id": "diuDs9X62-Cq",
        "colab": {
          "base_uri": "https://localhost:8080/"
        },
        "outputId": "e7fa6e37-0baa-4473-dbf9-d80e9ae5674d"
      },
      "outputs": [
        {
          "output_type": "stream",
          "name": "stdout",
          "text": [
            "Train ROC-AUC 0.9774\n",
            "Valid ROC-AUC 0.9416\n",
            "Test ROC-AUC 0.9374\n"
          ]
        }
      ],
      "source": [
        "x_train_new = x_train[:, boosting.feature_importances_ >= 0.005]\n",
        "x_valid_new = x_valid[:, boosting.feature_importances_ >= 0.005]\n",
        "x_test_new = x_test[:, boosting.feature_importances_ >= 0.005]\n",
        "\n",
        "model = Boosting(base_model_params={\n",
        "        'max_depth': 9,\n",
        "        'min_samples_leaf': 19,\n",
        "        'min_samples_split': 25},\n",
        "        n_estimators=282,\n",
        "        learning_rate=0.08290695099924901)\n",
        "model.fit(x_train_new, y_train, x_valid_new, y_valid)\n",
        "\n",
        "print(f'Train ROC-AUC {model.score(x_train_new, y_train):.4f}')\n",
        "print(f'Valid ROC-AUC {model.score(x_valid_new, y_valid):.4f}')\n",
        "print(f'Test ROC-AUC {model.score(x_test_new, y_test):.4f}')"
      ]
    },
    {
      "cell_type": "markdown",
      "source": [
        "Качество осталось таким же"
      ],
      "metadata": {
        "id": "rT2LVzJNy3dm"
      }
    },
    {
      "cell_type": "markdown",
      "metadata": {
        "pycharm": {
          "name": "#%% md\n"
        },
        "id": "FQFEPEdr2-Cq"
      },
      "source": [
        "## Задание 5 (бонус). Блендинговое (1 балл)\n",
        "\n",
        "Реализуйте блендинг над вашей лучшей моделью и логистической регрессией. Улучшилось ли качество?"
      ]
    },
    {
      "cell_type": "code",
      "execution_count": null,
      "metadata": {
        "pycharm": {
          "name": "#%%\n"
        },
        "id": "782b6SRW2-Cq"
      },
      "outputs": [],
      "source": [
        "# YOUR CODE:"
      ]
    },
    {
      "cell_type": "markdown",
      "metadata": {
        "collapsed": false,
        "pycharm": {
          "name": "#%% md\n"
        },
        "id": "D3Uw96lZ2-Cq"
      },
      "source": [
        "## Задание 6 (бонус). Катбустовое (1 балл)\n",
        "\n",
        "Запустите [CatBoost](https://catboost.ai/en/docs/concepts/python-quickstart) на наших данных, сравните с вашей реализацией. Где получилось лучше?"
      ]
    },
    {
      "cell_type": "code",
      "execution_count": null,
      "metadata": {
        "pycharm": {
          "name": "#%%\n"
        },
        "id": "HMQK3lLw2-Cq"
      },
      "outputs": [],
      "source": [
        "# YOUR CODE:"
      ]
    },
    {
      "cell_type": "markdown",
      "metadata": {
        "collapsed": false,
        "pycharm": {
          "name": "#%% md\n"
        },
        "id": "OnHs09Bl2-Cq"
      },
      "source": [
        "## Социализационный бонус. Новогоднее 🎆 (0.5 балла)\n",
        "\n",
        "Сфотографируйтесь с наряженной новогодней или рождественской ёлкой! Приложите фотографию, опишите свои впечатления, чего вы ждете от нового 2024 года?"
      ]
    },
    {
      "cell_type": "markdown",
      "metadata": {
        "id": "JM5DkgOX2-Cq"
      },
      "source": []
    }
  ],
  "metadata": {
    "kernelspec": {
      "display_name": "Python 3 (ipykernel)",
      "language": "python",
      "name": "python3"
    },
    "language_info": {
      "codemirror_mode": {
        "name": "ipython",
        "version": 3
      },
      "file_extension": ".py",
      "mimetype": "text/x-python",
      "name": "python",
      "nbconvert_exporter": "python",
      "pygments_lexer": "ipython3",
      "version": "3.9.7"
    },
    "nbTranslate": {
      "displayLangs": [
        "*"
      ],
      "hotkey": "alt-t",
      "langInMainMenu": true,
      "sourceLang": "en",
      "targetLang": "fr",
      "useGoogleTranslate": true
    },
    "toc": {
      "base_numbering": 1,
      "nav_menu": {
        "height": "210px",
        "width": "492px"
      },
      "number_sections": false,
      "sideBar": true,
      "skip_h1_title": false,
      "title_cell": "Table of Contents",
      "title_sidebar": "Contents",
      "toc_cell": false,
      "toc_position": {},
      "toc_section_display": true,
      "toc_window_display": true
    },
    "varInspector": {
      "cols": {
        "lenName": 16,
        "lenType": 16,
        "lenVar": 40
      },
      "kernels_config": {
        "python": {
          "delete_cmd_postfix": "",
          "delete_cmd_prefix": "del ",
          "library": "var_list.py",
          "varRefreshCmd": "print(var_dic_list())"
        },
        "r": {
          "delete_cmd_postfix": ") ",
          "delete_cmd_prefix": "rm(",
          "library": "var_list.r",
          "varRefreshCmd": "cat(var_dic_list()) "
        }
      },
      "types_to_exclude": [
        "module",
        "function",
        "builtin_function_or_method",
        "instance",
        "_Feature"
      ],
      "window_display": false
    },
    "colab": {
      "provenance": []
    }
  },
  "nbformat": 4,
  "nbformat_minor": 0
}