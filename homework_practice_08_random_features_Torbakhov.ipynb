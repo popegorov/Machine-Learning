{
  "cells": [
    {
      "cell_type": "markdown",
      "metadata": {
        "id": "RYp0bXOFK-hP"
      },
      "source": [
        "# Машинное обучение, ФКН ВШЭ\n",
        "\n",
        "## Практическое задание 8. Метод опорных векторов и аппроксимация ядер\n",
        "\n",
        "### Общая информация\n",
        "\n",
        "Дата выдачи: 02.02.2024\n",
        "\n",
        "Мягкий дедлайн: 23:59MSK 19.02.2024\n",
        "\n",
        "Жесткий дедлайн: 23:59MSK 25.02.2024\n",
        "\n",
        "### Оценивание и штрафы\n",
        "Каждая из задач имеет определенную «стоимость» (указана в скобках около задачи). Максимальная оценка за работу (без учёта бонусов) — 10 баллов.\n",
        "\n",
        "Сдавать задание после указанного жёсткого срока сдачи нельзя. При выставлении неполного балла за задание в связи с наличием ошибок на усмотрение проверяющего предусмотрена возможность исправить работу на указанных в ответном письме условиях.\n",
        "\n",
        "Задание выполняется самостоятельно. «Похожие» решения считаются плагиатом и все задействованные студенты (в том числе те, у кого списали) не могут получить за него больше 0 баллов (подробнее о плагиате см. на странице курса). Если вы нашли решение какого-то из заданий (или его часть) в открытом источнике, необходимо указать ссылку на этот источник в отдельном блоке в конце вашей работы (скорее всего вы будете не единственным, кто это нашел, поэтому чтобы исключить подозрение в плагиате, необходима ссылка на источник).\n",
        "\n",
        "Неэффективная реализация кода может негативно отразиться на оценке.\n",
        "\n",
        "### Формат сдачи\n",
        "Задания сдаются через систему anytask. Посылка должна содержать:\n",
        "* Ноутбук homework-practice-08-random-features-Username.ipynb\n",
        "\n",
        "Username — ваша фамилия и имя на латинице именно в таком порядке"
      ]
    },
    {
      "cell_type": "markdown",
      "metadata": {
        "id": "vY8vT0W_K-hR"
      },
      "source": [
        "### О задании\n",
        "\n",
        "На занятиях мы подробно обсуждали метод опорных векторов (SVM). В базовой версии в нём нет чего-то особенного — мы всего лишь используем специальную функцию потерь, которая не требует устремлять отступы к бесконечности; ей достаточно, чтобы отступы были не меньше +1. Затем мы узнали, что SVM можно переписать в двойственном виде, который, позволяет заменить скалярные произведения объектов на ядра. Это будет соответствовать построению модели в новом пространстве более высокой размерности, координаты которого представляют собой нелинейные модификации исходных признаков.\n",
        "\n",
        "Ядровой SVM, к сожалению, довольно затратен по памяти (нужно хранить матрицу Грама размера $d \\times d$) и по времени (нужно решать задачу условной оптимизации с квадратичной функцией, а это не очень быстро). Мы обсуждали, что есть способы посчитать новые признаки $\\tilde \\varphi(x)$ на основе исходных так, что скалярные произведения этих новых $\\langle \\tilde \\varphi(x), \\tilde \\varphi(z) \\rangle$ приближают ядро $K(x, z)$.\n",
        "\n",
        "Мы будем исследовать аппроксимации методом Random Fourier Features (RFF, также в литературе встречается название Random Kitchen Sinks) для гауссовых ядер. Будем использовать формулы, которые немного отличаются от того, что было на лекциях (мы добавим сдвиги внутрь тригонометрических функций и будем использовать только косинусы, потому что с нужным сдвигом косинус превратится в синус):\n",
        "$$\\tilde \\varphi(x) = (\n",
        "\\cos (w_1^T x + b_1),\n",
        "\\dots,\n",
        "\\cos (w_n^T x + b_n)\n",
        "),$$\n",
        "где $w_j \\sim \\mathcal{N}(0, 1/\\sigma^2)$, $b_j \\sim U[-\\pi, \\pi]$.\n",
        "\n",
        "На новых признаках $\\tilde \\varphi(x)$ мы будем строить любую линейную модель.\n",
        "\n",
        "Можно считать, что это некоторая новая парадигма построения сложных моделей. Можно направленно искать сложные нелинейные закономерности в данных с помощью градиентного бустинга или нейронных сетей, а можно просто нагенерировать большое количество случайных нелинейных признаков и надеяться, что быстрая и простая модель (то есть линейная) сможет показать на них хорошее качество. В этом задании мы изучим, насколько работоспособна такая идея.\n",
        "\n",
        "### Алгоритм\n",
        "\n",
        "Вам потребуется реализовать следующий алгоритм:\n",
        "1. Понизить размерность выборки до new_dim с помощью метода главных компонент.\n",
        "2. Для полученной выборки оценить гиперпараметр $\\sigma^2$ с помощью эвристики (рекомендуем считать медиану не по всем парам объектов, а по случайному подмножеству из где-то миллиона пар объектов): $$\\sigma^2 = \\text{median}_{i, j = 1, \\dots, \\ell, i \\neq j} \\left\\{\\sum_{k = 1}^{d} (x_{ik} - x_{jk})^2 \\right\\}$$\n",
        "3. Сгенерировать n_features наборов весов $w_j$ и сдвигов $b_j$.\n",
        "4. Сформировать n_features новых признаков по формулам, приведённым выше.\n",
        "5. Обучить линейную модель (логистическую регрессию или SVM) на новых признаках.\n",
        "6. Повторить преобразования (PCA, формирование новых признаков) к тестовой выборке и применить модель."
      ]
    },
    {
      "cell_type": "markdown",
      "metadata": {
        "id": "N_sGunb7K-hS"
      },
      "source": [
        "Тестировать алгоритм мы будем на данных Fashion MNIST. Ниже код для их загрузки и подготовки."
      ]
    },
    {
      "cell_type": "code",
      "execution_count": 11,
      "metadata": {
        "id": "YyG6dBfjK-hS"
      },
      "outputs": [],
      "source": [
        "import keras\n",
        "from keras.datasets import fashion_mnist\n",
        "(x_train_pics, y_train), (x_test_pics, y_test) = fashion_mnist.load_data()\n",
        "x_train = x_train_pics.reshape(y_train.shape[0], -1)\n",
        "x_test = x_test_pics.reshape(y_test.shape[0], -1)"
      ]
    },
    {
      "cell_type": "markdown",
      "metadata": {
        "id": "rJNN55F7K-hT"
      },
      "source": [
        "__Задание 1. (5 баллов)__\n",
        "\n",
        "Реализуйте алгоритм, описанный выше. Можете воспользоваться шаблоном класса ниже или написать свой интерфейс.\n",
        "\n",
        "Ваша реализация должна поддерживать следующие опции:\n",
        "1. Возможность задавать значения гиперпараметров new_dim (по умолчанию 50) и n_features (по умолчанию 1000).\n",
        "2. Возможность включать или выключать предварительное понижение размерности с помощью метода главных компонент.\n",
        "3. Возможность выбирать тип линейной модели (логистическая регрессия или SVM с линейным ядром).\n",
        "\n",
        "Протестируйте на данных Fashion MNIST, сформированных кодом выше. Если на тесте у вас получилась доля верных ответов не ниже 0.84 с гиперпараметрами по умолчанию, то вы всё сделали правильно."
      ]
    },
    {
      "cell_type": "code",
      "execution_count": 9,
      "metadata": {
        "id": "jP8yepx8K-hT"
      },
      "outputs": [],
      "source": [
        "from sklearn.base import BaseEstimator, TransformerMixin\n",
        "from sklearn.decomposition import PCA\n",
        "import numpy as np\n",
        "from sklearn.svm import LinearSVC\n",
        "from sklearn.linear_model import LogisticRegression\n",
        "from tqdm.notebook import tqdm\n",
        "from sklearn.preprocessing import Normalizer\n",
        "from sklearn.metrics import accuracy_score\n",
        "\n",
        "class RFFPipeline(BaseEstimator, TransformerMixin):\n",
        "    def __init__(self, n_features=1000, new_dim=50, use_PCA=True, classifier='logreg'):\n",
        "        \"\"\"\n",
        "        Implements pipeline, which consists of PCA decomposition,\n",
        "        Random Fourier Features approximation and linear classification model.\n",
        "\n",
        "        n_features, int: amount of synthetic random features generated with RFF approximation.\n",
        "\n",
        "        new_dim, int: PCA output size.\n",
        "\n",
        "        use_PCA, bool: whether to include PCA preprocessing.\n",
        "\n",
        "        classifier, string: either 'svm' or 'logreg', a linear classification model to use on top of pipeline.\n",
        "\n",
        "        Feel free to edit this template for your preferences.\n",
        "        \"\"\"\n",
        "        self.n_features = n_features\n",
        "        self.use_PCA = use_PCA\n",
        "        self.new_dim = new_dim\n",
        "        self.classifier = classifier\n",
        "        self.weights = []\n",
        "        self.biases = []\n",
        "        self.scaler = None\n",
        "        self.model = None\n",
        "        self.pca = None\n",
        "\n",
        "    def fit(self, X, y):\n",
        "        \"\"\"\n",
        "        Fit all parts of algorithm (PCA, RFF, Classification) to training set.\n",
        "        \"\"\"\n",
        "\n",
        "        self.scaler = Normalizer()\n",
        "        new_X = self.scaler.fit_transform(X)\n",
        "\n",
        "        #1\n",
        "        if self.use_PCA:\n",
        "          self.pca = PCA(n_components=self.new_dim)\n",
        "          new_X = self.pca.fit_transform(new_X)\n",
        "\n",
        "        print(\"Done PCA\")\n",
        "\n",
        "        #2\n",
        "        indices = np.random.choice(np.arange(new_X.shape[0]), size=(2, min(1000000, X.shape[0])))\n",
        "        first = indices[0]\n",
        "        second = indices[1]\n",
        "        indices = indices[:, first != second]\n",
        "        sigma_array = np.sum((new_X[first] - new_X[second])**2, axis=1)\n",
        "        sigma = np.median(sigma_array)\n",
        "        print('Done sigma', sigma)\n",
        "        #3\n",
        "        self.weights = np.random.normal(loc=0, scale=1/sigma, size=(new_X.shape[1], self.n_features))\n",
        "        self.biases = np.random.uniform(low=-np.pi, high=np.pi, size=self.n_features)\n",
        "\n",
        "        #4\n",
        "        new_features = np.cos(new_X @ self.weights + np.repeat([self.biases], new_X.shape[0], axis=0))\n",
        "\n",
        "        #5\n",
        "        if self.classifier == 'logreg':\n",
        "          self.model = LogisticRegression()\n",
        "        else:\n",
        "          self.model = LinearSVC()\n",
        "        self.model.fit(new_features, y)\n",
        "        print('Done fitting')\n",
        "\n",
        "        return self\n",
        "\n",
        "    def predict_proba(self, X):\n",
        "        \"\"\"\n",
        "        Apply pipeline to obtain scores for input data.\n",
        "        \"\"\"\n",
        "        new_X = self.scaler.transform(X)\n",
        "        if self.use_PCA:\n",
        "          new_X = self.pca.transform(new_X)\n",
        "\n",
        "        new_features = np.cos(new_X @ self.weights + self.biases)\n",
        "\n",
        "        if self.classifier == 'logreg':\n",
        "          probas = self.model.predict_proba(new_features)[:,1]\n",
        "        else:\n",
        "          probas = self.model.decision_function(new_features)\n",
        "\n",
        "        return probas\n",
        "\n",
        "    def predict(self, X):\n",
        "        \"\"\"\n",
        "        Apply pipeline to obtain discrete predictions for input data.\n",
        "        \"\"\"\n",
        "        new_X = self.scaler.transform(X)\n",
        "        if self.use_PCA:\n",
        "          new_X = self.pca.transform(new_X)\n",
        "\n",
        "        new_features = np.cos(new_X @ self.weights + np.repeat([self.biases], new_X.shape[0], axis=0))\n",
        "\n",
        "        return self.model.predict(new_features)\n",
        ""
      ]
    },
    {
      "cell_type": "code",
      "source": [
        "model = RFFPipeline()\n",
        "\n",
        "model.fit(x_train, y_train)\n",
        "print(\"Accuracy = \", accuracy_score(y_test, model.predict(x_test)))"
      ],
      "metadata": {
        "colab": {
          "base_uri": "https://localhost:8080/"
        },
        "id": "866R2FVAZzdu",
        "outputId": "08ef4ca5-ae34-4914-a6df-5dc8a6e03120"
      },
      "execution_count": 3,
      "outputs": [
        {
          "output_type": "stream",
          "name": "stdout",
          "text": [
            "Done PCA\n",
            "Done sigma 0.6360057709314345\n"
          ]
        },
        {
          "output_type": "stream",
          "name": "stderr",
          "text": [
            "/usr/local/lib/python3.10/dist-packages/sklearn/linear_model/_logistic.py:458: ConvergenceWarning: lbfgs failed to converge (status=1):\n",
            "STOP: TOTAL NO. of ITERATIONS REACHED LIMIT.\n",
            "\n",
            "Increase the number of iterations (max_iter) or scale the data as shown in:\n",
            "    https://scikit-learn.org/stable/modules/preprocessing.html\n",
            "Please also refer to the documentation for alternative solver options:\n",
            "    https://scikit-learn.org/stable/modules/linear_model.html#logistic-regression\n",
            "  n_iter_i = _check_optimize_result(\n"
          ]
        },
        {
          "output_type": "stream",
          "name": "stdout",
          "text": [
            "Done fitting\n",
            "Accuracy =  0.8657\n"
          ]
        }
      ]
    },
    {
      "cell_type": "markdown",
      "metadata": {
        "id": "HYqQUEi-K-hU"
      },
      "source": [
        "__Задание 2. (3 балла)__\n",
        "\n",
        "Сравните подход со случайными признаками с обучением SVM на исходных признаках. Попробуйте вариант с обычным (линейным) SVM и с ядровым SVM. Ядровой SVM может очень долго обучаться, поэтому можно делать любые разумные вещи для ускорения: брать подмножество объектов из обучающей выборки, например.\n",
        "\n",
        "Сравните подход со случайными признаками с вариантом, в котором вы понижаете размерность с помощью PCA и обучаете градиентный бустинг. Используйте одну из реализаций CatBoost/LightGBM/XGBoost, не забудьте подобрать число деревьев и длину шага.\n",
        "\n",
        "Сделайте выводы — насколько идея со случайными признаками работает? Сравните как с точки зрения качества, так и с точки зрения скорости обучения и применения."
      ]
    },
    {
      "cell_type": "code",
      "execution_count": 5,
      "metadata": {
        "id": "qN8LUlJgK-hV",
        "colab": {
          "base_uri": "https://localhost:8080/"
        },
        "outputId": "297bb6d5-042b-40b1-bad1-d2e756338a8f"
      },
      "outputs": [
        {
          "output_type": "stream",
          "name": "stderr",
          "text": [
            "/usr/local/lib/python3.10/dist-packages/sklearn/svm/_base.py:1244: ConvergenceWarning: Liblinear failed to converge, increase the number of iterations.\n",
            "  warnings.warn(\n"
          ]
        },
        {
          "output_type": "stream",
          "name": "stdout",
          "text": [
            "Done PCA\n",
            "Done sigma 0.6362324832572317\n"
          ]
        },
        {
          "output_type": "stream",
          "name": "stderr",
          "text": [
            "/usr/local/lib/python3.10/dist-packages/sklearn/svm/_base.py:1244: ConvergenceWarning: Liblinear failed to converge, increase the number of iterations.\n",
            "  warnings.warn(\n"
          ]
        },
        {
          "output_type": "stream",
          "name": "stdout",
          "text": [
            "Done fitting\n",
            "Linear model accuracy =  0.7933\n",
            "Kernel model accuracy =  0.8679\n"
          ]
        }
      ],
      "source": [
        "indices = np.random.choice(np.arange(x_train.shape[0]), size=int(x_train.shape[0] * 0.5), replace=False)\n",
        "\n",
        "linear_model = LinearSVC()\n",
        "linear_model.fit(x_train[indices], y_train[indices])\n",
        "y_pred_lin = linear_model.predict(x_test)\n",
        "\n",
        "kernel_model = RFFPipeline(classifier='SVC')\n",
        "kernel_model.fit(x_train[indices], y_train[indices])\n",
        "y_pred_kernel = kernel_model.predict(x_test)\n",
        "print(\"Linear model accuracy = \", accuracy_score(y_test, y_pred_lin))\n",
        "print(\"Kernel model accuracy = \", accuracy_score(y_test, y_pred_kernel))"
      ]
    },
    {
      "cell_type": "code",
      "source": [
        "import xgboost as xgb\n",
        "\n",
        "pca = PCA(n_components=50)\n",
        "new_x_train = pca.fit_transform(x_train)\n",
        "new_x_test = pca.fit_transform(x_test)\n",
        "\n",
        "lrs = [1e-4, 1e-3, 1e-2, 1e-1, 1e0]\n",
        "\n",
        "val_indices = np.random.choice(np.arange(new_x_test.shape[0]), size=(2, int(new_x_test.shape[0] * 0.5)), replace=False)\n",
        "new_x_val = new_x_test[val_indices[0]]\n",
        "new_x_test = new_x_test[val_indices[1]]\n",
        "new_y_val = y_test[val_indices[0]]\n",
        "new_y_test = y_test[val_indices[1]]\n",
        "\n",
        "for lr in lrs:\n",
        "  boost_model = xgb.XGBClassifier(learning_rate=lr)\n",
        "  boost_model.fit(new_x_train, y_train)\n",
        "  print(f'Learning rate {lr} boosting accuracy {accuracy_score(new_y_val, boost_model.predict(new_x_val))}')"
      ],
      "metadata": {
        "colab": {
          "base_uri": "https://localhost:8080/"
        },
        "id": "qcYaRGzJDFEI",
        "outputId": "b48a1221-60a2-442d-8231-581f2bc1ab49"
      },
      "execution_count": 6,
      "outputs": [
        {
          "output_type": "stream",
          "name": "stdout",
          "text": [
            "Learning rate 0.0001 boosting accuracy 0.5422\n",
            "Learning rate 0.001 boosting accuracy 0.539\n",
            "Learning rate 0.01 boosting accuracy 0.5522\n",
            "Learning rate 0.1 boosting accuracy 0.5702\n",
            "Learning rate 1.0 boosting accuracy 0.544\n"
          ]
        }
      ]
    },
    {
      "cell_type": "code",
      "source": [
        "best_lr = 0.1\n",
        "estimators = [50, 100, 150, 200, 300, 400, 500]\n",
        "\n",
        "for n_estimators in estimators:\n",
        "  boost_model = xgb.XGBClassifier(learning_rate=best_lr, n_estimators=n_estimators)\n",
        "  boost_model.fit(new_x_train, y_train)\n",
        "  print(f'Estimators number {n_estimators} boosting accuracy {accuracy_score(new_y_val, boost_model.predict(new_x_val))}')"
      ],
      "metadata": {
        "colab": {
          "base_uri": "https://localhost:8080/"
        },
        "id": "mRqwe4VhKRYO",
        "outputId": "bb22e3a0-85b7-44d4-f453-bf38a9ab40fa"
      },
      "execution_count": 7,
      "outputs": [
        {
          "output_type": "stream",
          "name": "stdout",
          "text": [
            "Estimators number 50 boosting accuracy 0.556\n",
            "Estimators number 100 boosting accuracy 0.5702\n",
            "Estimators number 150 boosting accuracy 0.5706\n",
            "Estimators number 200 boosting accuracy 0.567\n",
            "Estimators number 300 boosting accuracy 0.5648\n",
            "Estimators number 400 boosting accuracy 0.5636\n",
            "Estimators number 500 boosting accuracy 0.5632\n"
          ]
        }
      ]
    },
    {
      "cell_type": "code",
      "source": [
        "best_n_estimators = 150\n",
        "boost_model = xgb.XGBClassifier(learning_rate=best_lr, n_estimators=best_n_estimators)\n",
        "boost_model.fit(new_x_train, y_train)\n",
        "print(f'Best boosting accuracy {accuracy_score(new_y_test, boost_model.predict(new_x_test))}')"
      ],
      "metadata": {
        "colab": {
          "base_uri": "https://localhost:8080/"
        },
        "id": "Zez48mpKNKhC",
        "outputId": "72b5a40d-f797-4e2c-db34-9fcfa977a7c9"
      },
      "execution_count": 8,
      "outputs": [
        {
          "output_type": "stream",
          "name": "stdout",
          "text": [
            "Best boosting accuracy 0.5604\n"
          ]
        }
      ]
    },
    {
      "cell_type": "markdown",
      "source": [
        "Как мы видим из тестов известные нам методы справляются с поставленной задачей хуже, чем ядровой подход. Что касается времени обучения - я не заметил большой разницы между обучением линейного и ядрового SVC (ядровой чуть дольше, но совсем не критично). Время обучения бустинга зависит от количества деревьев. Оптимальный бустинг обучился быстрее, чем ядровой SVC, но едва ли это сравнение имеет значение, так как разница в качестве слишком большая"
      ],
      "metadata": {
        "id": "vvb-ugrzNrK_"
      }
    },
    {
      "cell_type": "markdown",
      "metadata": {
        "id": "e6umjhWuK-hV"
      },
      "source": [
        "__Задание 3. (2 балла)__\n",
        "\n",
        "Проведите эксперименты:\n",
        "1. Помогает ли предварительное понижение размерности с помощью PCA?\n",
        "2. Как зависит итоговое качество от n_features? Выходит ли оно на плато при росте n_features?\n",
        "3. Важно ли, какую модель обучать — логистическую регрессию или SVM?"
      ]
    },
    {
      "cell_type": "code",
      "execution_count": 9,
      "metadata": {
        "id": "c2QIHIMbK-hW",
        "colab": {
          "base_uri": "https://localhost:8080/"
        },
        "outputId": "13909ee4-c332-45d9-aeb0-b8702073f16e"
      },
      "outputs": [
        {
          "output_type": "stream",
          "name": "stdout",
          "text": [
            "Done PCA\n",
            "Done sigma 0.7994506823707277\n"
          ]
        },
        {
          "output_type": "stream",
          "name": "stderr",
          "text": [
            "/usr/local/lib/python3.10/dist-packages/sklearn/linear_model/_logistic.py:458: ConvergenceWarning: lbfgs failed to converge (status=1):\n",
            "STOP: TOTAL NO. of ITERATIONS REACHED LIMIT.\n",
            "\n",
            "Increase the number of iterations (max_iter) or scale the data as shown in:\n",
            "    https://scikit-learn.org/stable/modules/preprocessing.html\n",
            "Please also refer to the documentation for alternative solver options:\n",
            "    https://scikit-learn.org/stable/modules/linear_model.html#logistic-regression\n",
            "  n_iter_i = _check_optimize_result(\n"
          ]
        },
        {
          "output_type": "stream",
          "name": "stdout",
          "text": [
            "Done fitting\n",
            "Kernel model with PCA accuracy =  0.8657\n",
            "Kernel model without PCA accuracy =  0.8672\n"
          ]
        }
      ],
      "source": [
        "noPCA_model = RFFPipeline(use_PCA=False)\n",
        "noPCA_model.fit(x_train, y_train)\n",
        "y_pred_kernel = noPCA_model.predict(x_test)\n",
        "print(\"Kernel model with PCA accuracy = \", 0.8657)\n",
        "print(\"Kernel model without PCA accuracy = \", accuracy_score(y_test, y_pred_kernel))"
      ]
    },
    {
      "cell_type": "markdown",
      "source": [
        "Проведённый эксперимент показывает, что понижение размерности качество модели не увеличивает, но помогает в скорости"
      ],
      "metadata": {
        "id": "qsoWL_TYMEjX"
      }
    },
    {
      "cell_type": "code",
      "source": [
        "features = [250, 500, 1000, 1500, 2000, 3000, 5000, 7500]\n",
        "val_indices = np.random.choice(np.arange(x_test.shape[0]), size=(2, int(x_test.shape[0] * 0.5)), replace=False)\n",
        "\n",
        "new_x_val = x_test[val_indices[0]]\n",
        "new_x_test = x_test[val_indices[1]]\n",
        "new_y_val = y_test[val_indices[0]]\n",
        "new_y_test = y_test[val_indices[1]]\n",
        "\n",
        "accuracies = []\n",
        "\n",
        "for n_features in features:\n",
        "  model = RFFPipeline(n_features=n_features)\n",
        "  model.fit(x_train, y_train)\n",
        "  accuracies.append(accuracy_score(new_y_val, model.predict(new_x_val)))\n",
        "  print(f'Features number {n_features} kernel accuracy {accuracy_score(new_y_val, model.predict(new_x_val))}')"
      ],
      "metadata": {
        "id": "89zjzq-5QAdt"
      },
      "execution_count": null,
      "outputs": []
    },
    {
      "cell_type": "code",
      "source": [
        "import seaborn as sns\n",
        "\n",
        "sns.lineplot(x=features, y=accuracies).set(title='Dependence of accuracy on number of features', xlabel='n_features', ylabel='accuracy')"
      ],
      "metadata": {
        "colab": {
          "base_uri": "https://localhost:8080/",
          "height": 523
        },
        "id": "YL4NPtSgUqZs",
        "outputId": "08a0ffbe-3462-41db-88a1-8756e4dd0456"
      },
      "execution_count": 6,
      "outputs": [
        {
          "output_type": "execute_result",
          "data": {
            "text/plain": [
              "[Text(0.5, 1.0, 'Dependence of accuracy on number of features'),\n",
              " Text(0.5, 0, 'n_features'),\n",
              " Text(0, 0.5, 'accuracy')]"
            ]
          },
          "metadata": {},
          "execution_count": 6
        },
        {
          "output_type": "display_data",
          "data": {
            "text/plain": [
              "<Figure size 640x480 with 1 Axes>"
            ],
            "image/png": "[encoded data removed]"
          },
          "metadata": {}
        }
      ]
    },
    {
      "cell_type": "markdown",
      "source": [
        "Из графика видно, что точность изменяется незначительно, можно сказать, что вышли на плато"
      ],
      "metadata": {
        "id": "DR9h1FxZM2Bt"
      }
    },
    {
      "cell_type": "code",
      "source": [
        "svc_kernel_model = RFFPipeline(classifier='SVC')\n",
        "svc_kernel_model.fit(x_train, y_train)\n",
        "y_pred_svc = svc_kernel_model.predict(x_test)\n",
        "\n",
        "log_kernel_model = RFFPipeline()\n",
        "log_kernel_model.fit(x_train, y_train)\n",
        "y_pred_log = log_kernel_model.predict(x_test)\n",
        "\n",
        "print(\"SVC kernel model accuracy = \", accuracy_score(y_test, y_pred_svc))\n",
        "print(\"Logistic kernel model accuracy = \", accuracy_score(y_test, y_pred_log))"
      ],
      "metadata": {
        "colab": {
          "base_uri": "https://localhost:8080/"
        },
        "id": "dz-n3i7SZsZV",
        "outputId": "5cfe352c-44e2-46cc-c001-d13f0f151006"
      },
      "execution_count": 12,
      "outputs": [
        {
          "output_type": "stream",
          "name": "stdout",
          "text": [
            "Done PCA\n",
            "Done sigma 0.6388333550721654\n"
          ]
        },
        {
          "output_type": "stream",
          "name": "stderr",
          "text": [
            "/usr/local/lib/python3.10/dist-packages/sklearn/svm/_base.py:1244: ConvergenceWarning: Liblinear failed to converge, increase the number of iterations.\n",
            "  warnings.warn(\n"
          ]
        },
        {
          "output_type": "stream",
          "name": "stdout",
          "text": [
            "Done fitting\n",
            "Done PCA\n",
            "Done sigma 0.6367766662303486\n"
          ]
        },
        {
          "output_type": "stream",
          "name": "stderr",
          "text": [
            "/usr/local/lib/python3.10/dist-packages/sklearn/linear_model/_logistic.py:458: ConvergenceWarning: lbfgs failed to converge (status=1):\n",
            "STOP: TOTAL NO. of ITERATIONS REACHED LIMIT.\n",
            "\n",
            "Increase the number of iterations (max_iter) or scale the data as shown in:\n",
            "    https://scikit-learn.org/stable/modules/preprocessing.html\n",
            "Please also refer to the documentation for alternative solver options:\n",
            "    https://scikit-learn.org/stable/modules/linear_model.html#logistic-regression\n",
            "  n_iter_i = _check_optimize_result(\n"
          ]
        },
        {
          "output_type": "stream",
          "name": "stdout",
          "text": [
            "Done fitting\n",
            "SVC kernel model accuracy =  0.8677\n",
            "Logistic kernel model accuracy =  0.8669\n"
          ]
        }
      ]
    },
    {
      "cell_type": "markdown",
      "source": [
        "В контексте данной задачи и данных, разница в качестве между двумя подходами небольшая, но SVM обучается дольше, поэтому разница с точки зрения производительности есть"
      ],
      "metadata": {
        "id": "2QyRXr-1NTS4"
      }
    },
    {
      "cell_type": "markdown",
      "metadata": {
        "id": "CJqXVuasK-hW"
      },
      "source": [
        "### Бонус"
      ]
    },
    {
      "cell_type": "markdown",
      "metadata": {
        "id": "QVDWHCdrK-hX"
      },
      "source": [
        "__Задание 4. (Максимум 2 балла)__\n",
        "\n",
        "Как вы, должно быть, помните с курса МО-1, многие алгоритмы машинного обучения работают лучше, если признаки данных некоррелированы. Оказывается, что для RFF существует модификация, позволяющая получать ортогональные случайные признаки (Orthogonal Random Features, ORF). Об этом методе можно прочитать в [статье](https://proceedings.neurips.cc/paper/2016/file/53adaf494dc89ef7196d73636eb2451b-Paper.pdf). Реализуйте класс для вычисления ORF по аналогии с основным заданием. Обратите внимание, что ваш класс должен уметь работать со случаем n_features > new_dim (в статье есть замечание на этот счет). Проведите эксперименты, сравнивающие RFF и ORF, сделайте выводы."
      ]
    },
    {
      "cell_type": "code",
      "execution_count": null,
      "metadata": {
        "id": "HSxvGI9iK-hX"
      },
      "outputs": [],
      "source": [
        "# Your code here: (￣▽￣)/♫•*¨*•.¸¸♪"
      ]
    },
    {
      "cell_type": "markdown",
      "metadata": {
        "id": "4pc7-1jmK-hY"
      },
      "source": [
        "__Задание 5. (Максимум 1 балл)__\n",
        "\n",
        "Поэкспериментируйте с функциями для вычисления новых случайных признаков. Не обязательно использовать косинус от скалярного произведения — можно брать знак от него, хэш и т.д. Придумайте побольше вариантов для генерации признаков и проверьте, не получается ли с их помощью добиваться более высокого качества. Также можете попробовать другой классификатор поверх случайных признаков, сравните результаты."
      ]
    },
    {
      "cell_type": "code",
      "execution_count": null,
      "metadata": {
        "id": "dWj-O2vjK-hY"
      },
      "outputs": [],
      "source": [
        "# Your code here: (￣▽￣)/♫•*¨*•.¸¸♪"
      ]
    },
    {
      "cell_type": "markdown",
      "metadata": {
        "id": "Gq6xc_-gNXIM"
      },
      "source": [
        "__Задание 6. (Максимум 1 балл)__\n",
        "\n",
        "Реализуйте класс ядровой Ridge регрессии (Лекция 13, $\\S 1.2$), для оптимизации используте градиентный спуск, а не аналитическую формулу. Также подумайте о том, как в формулах правильно учесть свободный коэффициент. Затем адаптируйте вашу реализацию RFF под задачу регрессии. Сравните вашу ядровую регрессию и RFF на синтетических данных."
      ]
    },
    {
      "cell_type": "markdown",
      "metadata": {
        "id": "2snKXYIgNXIM"
      },
      "source": [
        "Функция потерь:\n",
        "$$\n",
        "Q(w) = \\frac{1}{2} ||\\Phi \\Phi^T w - y||^2 + \\frac{\\lambda}{2} w^T \\Phi \\Phi^T w \\rightarrow \\min_w,\n",
        "$$\n",
        "где $\\Phi \\Phi^T = K$, $K = (k(x_i, x_j))_{i, j = 1}^{\\ell}$.\n",
        "\n",
        "Предсказание:\n",
        "$\n",
        "y(x) = k(x)^T w,\n",
        "$\n",
        "где $k(x)$ — вектор функций ядра от пар объектов $(x, x_i)_{i=1}^{\\ell}$.\n",
        "\n",
        "Вы можете изменять представленный ниже шаблон по своему усмотрению."
      ]
    },
    {
      "cell_type": "code",
      "execution_count": null,
      "metadata": {
        "id": "ce2NrCWANXIN"
      },
      "outputs": [],
      "source": [
        "import numpy as np\n",
        "from sklearn.base import RegressorMixin\n",
        "from sklearn.gaussian_process.kernels import RBF\n",
        "\n",
        "class KernelRidgeRegression(RegressorMixin):\n",
        "    \"\"\"\n",
        "    Kernel Ridge regression class\n",
        "    \"\"\"\n",
        "\n",
        "    def __init__(self,\n",
        "        lr=0.01,\n",
        "        regularization=1.,\n",
        "        tolerance=1e-2,\n",
        "        max_iter=1000,\n",
        "        batch_size=64,\n",
        "        kernel_scale=1.\n",
        "    ):\n",
        "        \"\"\"\n",
        "        :param lr: learning rate\n",
        "        :param regularization: regularization coefficient\n",
        "        :param tolerance: stopping criterion for square of euclidean norm of weight difference\n",
        "        :param max_iter: stopping criterion for iterations\n",
        "        :param batch_size: size of the batches used in gradient descent steps\n",
        "        :parame kernel_scale: length scale in RBF kernel formula\n",
        "        \"\"\"\n",
        "\n",
        "        self.lr: float = lr\n",
        "        self.regularization: float = regularization\n",
        "        self.w: np.ndarray | None = None\n",
        "\n",
        "        self.tolerance: float = tolerance\n",
        "        self.max_iter: int = max_iter\n",
        "        self.batch_size: int = batch_size\n",
        "        self.loss_history: list[float] = []\n",
        "        self.kernel = RBF(kernel_scale)\n",
        "\n",
        "    def calc_loss(self, x: np.ndarray, y: np.ndarray) -> float:\n",
        "        \"\"\"\n",
        "        Calculating loss for x and y dataset\n",
        "        :param x: features array\n",
        "        :param y: targets array\n",
        "        \"\"\"\n",
        "        raise NotImplementedError\n",
        "\n",
        "    def calc_grad(self, x: np.ndarray, y: np.ndarray) -> float:\n",
        "        \"\"\"\n",
        "        Calculating gradient for x and y dataset\n",
        "        :param x: features array\n",
        "        :param y: targets array\n",
        "        \"\"\"\n",
        "        raise NotImplementedError\n",
        "\n",
        "    def fit(self, x: np.ndarray, y: np.ndarray) -> \"KernelRidgeRegression\":\n",
        "        \"\"\"\n",
        "        Fitting weights for x and y dataset\n",
        "        :param x: features array\n",
        "        :param y: targets array\n",
        "        :return: self\n",
        "        \"\"\"\n",
        "        raise NotImplementedError\n",
        "\n",
        "    def predict(self, x: np.ndarray) -> np.ndarray:\n",
        "        \"\"\"\n",
        "        Predicting targets for x dataset\n",
        "        :param x: features array\n",
        "        :return: prediction: np.ndarray\n",
        "        \"\"\"\n",
        "        raise NotImplementedError"
      ]
    },
    {
      "cell_type": "code",
      "execution_count": null,
      "metadata": {
        "id": "M66d1tWxNXIN"
      },
      "outputs": [],
      "source": []
    }
  ],
  "metadata": {
    "colab": {
      "provenance": []
    },
    "kernelspec": {
      "display_name": "Python 3 (ipykernel)",
      "language": "python",
      "name": "python3"
    },
    "language_info": {
      "codemirror_mode": {
        "name": "ipython",
        "version": 3
      },
      "file_extension": ".py",
      "mimetype": "text/x-python",
      "name": "python",
      "nbconvert_exporter": "python",
      "pygments_lexer": "ipython3",
      "version": "3.11.5"
    }
  },
  "nbformat": 4,
  "nbformat_minor": 0
}